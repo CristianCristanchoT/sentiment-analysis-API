{
 "cells": [
  {
   "cell_type": "code",
   "execution_count": 154,
   "id": "a051f7c6-f04e-40e7-8262-af2645a15fb2",
   "metadata": {},
   "outputs": [],
   "source": [
    "from bs4 import BeautifulSoup\n",
    "import requests\n",
    "import pandas as pd\n",
    "from tqdm import tqdm \n",
    "from tqdm import trange\n",
    "import time\n",
    "from google_play_scraper import app, Sort, reviews, reviews_all\n",
    "from pprint import pprint\n",
    "import json\n",
    "from selenium import webdriver\n",
    "from webdriver_manager.chrome import ChromeDriverManager\n",
    "import re"
   ]
  },
  {
   "cell_type": "code",
   "execution_count": 42,
   "id": "9b3788e8-84aa-4c7c-8e56-fe418d5d8842",
   "metadata": {},
   "outputs": [],
   "source": [
    "url = 'https://play.google.com/store/apps/details?id=com.clarocolombia.miclaro&hl=es_CO&gl=US&showAllReviews=true'"
   ]
  },
  {
   "cell_type": "markdown",
   "id": "208b29f0-817d-4f67-bfc4-04209f7681a3",
   "metadata": {},
   "source": [
    "# Obtencio de datos mediante Libreria <strong>google_play_scraper</strong>"
   ]
  },
  {
   "cell_type": "markdown",
   "id": "891dd6c4-991d-4dde-9944-058a4fd59ac7",
   "metadata": {},
   "source": [
    "### Consultar los datos generales de la app"
   ]
  },
  {
   "cell_type": "code",
   "execution_count": 43,
   "id": "9b913f26-3362-45d8-ad77-5f658342346b",
   "metadata": {},
   "outputs": [],
   "source": [
    "result = app(\n",
    "    'com.clarocolombia.miclaro',\n",
    "    lang='es',\n",
    "    country='us' \n",
    ")"
   ]
  },
  {
   "cell_type": "markdown",
   "id": "b9acfa51-ed66-4351-ab2f-a9f2fa2c4eba",
   "metadata": {},
   "source": [
    "### Consulta de comentarios por lotes"
   ]
  },
  {
   "cell_type": "code",
   "execution_count": 44,
   "id": "b4929ff9-5dca-4028-9d55-03247c8c638f",
   "metadata": {},
   "outputs": [],
   "source": [
    "rvws, token = reviews(\n",
    "        'com.clarocolombia.miclaro', \n",
    "        lang='es',            \n",
    "        country='us',         \n",
    "        sort=Sort.NEWEST,     \n",
    "        filter_score_with=None,  \n",
    "        count=100             \n",
    "    )"
   ]
  },
  {
   "cell_type": "code",
   "execution_count": 59,
   "id": "02ea13d5-179c-4538-a117-61c33df76647",
   "metadata": {},
   "outputs": [
    {
     "data": {
      "text/plain": [
       "[{'reviewId': 'gp:AOqpTOFjz5e9ioJtbi-HvBz7SH9XQ5_IoGk9U8Pr5s02BIu0Jrcgp1r3oPxYYDt95EowiySUpb9C_hla1VqvAdU',\n",
       "  'userName': 'Carlos Ortega',\n",
       "  'userImage': 'https://play-lh.googleusercontent.com/a/AATXAJzsdSEnAgfmcUNHAxe7LTsGKuXHgDG6274Z5Ovn=mo',\n",
       "  'content': 'Muy buena aplicacion',\n",
       "  'score': 5,\n",
       "  'thumbsUpCount': 0,\n",
       "  'reviewCreatedVersion': '11.4.0',\n",
       "  'at': datetime.datetime(2021, 7, 30, 21, 39, 6),\n",
       "  'replyContent': None,\n",
       "  'repliedAt': None},\n",
       " {'reviewId': 'gp:AOqpTOGPMRc3QrLlDSZ5XVM_pgQImI8P9Ofkgnp0ZjmcljJQJ1Iuobqglp-stQt-hG3_7ytsRZ-lV21iwDXDLcI',\n",
       "  'userName': 'Thony Gutierrez',\n",
       "  'userImage': 'https://play-lh.googleusercontent.com/a/AATXAJwdaKc1y-zE0P0tPyli--fESJtdzeDAI_Qu-iG5=mo',\n",
       "  'content': 'Que servicio tan malo, intento comunicarme con ustedes y no hay forma, escribo por WhatsApp y responden cuando les da la gana, hay una línea nacional que no sirve, y el servicio de *611 demoran en recibir la llamada, pero para generar una bendita factura si de una están todos los canales disponibles para hacerle llegar. Me tienen triste con éste servicio...',\n",
       "  'score': 1,\n",
       "  'thumbsUpCount': 0,\n",
       "  'reviewCreatedVersion': '11.4.0',\n",
       "  'at': datetime.datetime(2021, 7, 30, 21, 17, 47),\n",
       "  'replyContent': None,\n",
       "  'repliedAt': None}]"
      ]
     },
     "execution_count": 59,
     "metadata": {},
     "output_type": "execute_result"
    }
   ],
   "source": [
    "rvws[0:2]"
   ]
  },
  {
   "cell_type": "markdown",
   "id": "f4fcccef-16d4-428e-a35b-aa816cb8af4c",
   "metadata": {},
   "source": [
    "### Consulta de todos los cometarios"
   ]
  },
  {
   "cell_type": "code",
   "execution_count": 45,
   "id": "cc454d04-cffd-4007-9352-2dcdc3068b19",
   "metadata": {},
   "outputs": [],
   "source": [
    "all_rvws = reviews_all(\n",
    "    'com.clarocolombia.miclaro',\n",
    "    sleep_milliseconds=0,\n",
    "    lang='es', \n",
    "    country='us',\n",
    "    sort=Sort.NEWEST, \n",
    "    filter_score_with=None\n",
    ")"
   ]
  },
  {
   "cell_type": "code",
   "execution_count": 50,
   "id": "f6bb3b69-306a-4f10-9ff9-da56cd8f01bf",
   "metadata": {},
   "outputs": [
    {
     "name": "stdout",
     "output_type": "stream",
     "text": [
      "La cantidad de comentarios obtenidos de la aplicacion fueron: 86845\n"
     ]
    }
   ],
   "source": [
    "print (\"La cantidad de comentarios obtenidos de la aplicacion fueron: \"+ str(len(all_rvws)))"
   ]
  },
  {
   "cell_type": "code",
   "execution_count": 60,
   "id": "59f38eff-85a0-45fc-a518-489acb1c050a",
   "metadata": {},
   "outputs": [
    {
     "data": {
      "text/plain": [
       "[{'reviewId': 'gp:AOqpTOFjz5e9ioJtbi-HvBz7SH9XQ5_IoGk9U8Pr5s02BIu0Jrcgp1r3oPxYYDt95EowiySUpb9C_hla1VqvAdU',\n",
       "  'userName': 'Carlos Ortega',\n",
       "  'userImage': 'https://play-lh.googleusercontent.com/a/AATXAJzsdSEnAgfmcUNHAxe7LTsGKuXHgDG6274Z5Ovn=mo',\n",
       "  'content': 'Muy buena aplicacion',\n",
       "  'score': 5,\n",
       "  'thumbsUpCount': 0,\n",
       "  'reviewCreatedVersion': '11.4.0',\n",
       "  'at': datetime.datetime(2021, 7, 30, 21, 39, 6),\n",
       "  'replyContent': None,\n",
       "  'repliedAt': None},\n",
       " {'reviewId': 'gp:AOqpTOGPMRc3QrLlDSZ5XVM_pgQImI8P9Ofkgnp0ZjmcljJQJ1Iuobqglp-stQt-hG3_7ytsRZ-lV21iwDXDLcI',\n",
       "  'userName': 'Thony Gutierrez',\n",
       "  'userImage': 'https://play-lh.googleusercontent.com/a/AATXAJwdaKc1y-zE0P0tPyli--fESJtdzeDAI_Qu-iG5=mo',\n",
       "  'content': 'Que servicio tan malo, intento comunicarme con ustedes y no hay forma, escribo por WhatsApp y responden cuando les da la gana, hay una línea nacional que no sirve, y el servicio de *611 demoran en recibir la llamada, pero para generar una bendita factura si de una están todos los canales disponibles para hacerle llegar. Me tienen triste con éste servicio...',\n",
       "  'score': 1,\n",
       "  'thumbsUpCount': 0,\n",
       "  'reviewCreatedVersion': '11.4.0',\n",
       "  'at': datetime.datetime(2021, 7, 30, 21, 17, 47),\n",
       "  'replyContent': None,\n",
       "  'repliedAt': None}]"
      ]
     },
     "execution_count": 60,
     "metadata": {},
     "output_type": "execute_result"
    }
   ],
   "source": [
    "all_rvws[0:2]"
   ]
  },
  {
   "cell_type": "markdown",
   "id": "76dc6bec-94b0-4503-a3a3-013cfcf3cb4c",
   "metadata": {},
   "source": [
    "## Conversion del JSON obtenido a un Dataframe para mas comodidad en el procesamiento de datos"
   ]
  },
  {
   "cell_type": "code",
   "execution_count": 57,
   "id": "d29f28dd-50a0-4c42-889c-09cbc2734ff1",
   "metadata": {},
   "outputs": [],
   "source": [
    "df = pd.json_normalize(all_rvws)"
   ]
  },
  {
   "cell_type": "code",
   "execution_count": 61,
   "id": "44578d4b-943d-4e83-af6f-3560be7417b2",
   "metadata": {},
   "outputs": [
    {
     "data": {
      "text/html": [
       "<div>\n",
       "<style scoped>\n",
       "    .dataframe tbody tr th:only-of-type {\n",
       "        vertical-align: middle;\n",
       "    }\n",
       "\n",
       "    .dataframe tbody tr th {\n",
       "        vertical-align: top;\n",
       "    }\n",
       "\n",
       "    .dataframe thead th {\n",
       "        text-align: right;\n",
       "    }\n",
       "</style>\n",
       "<table border=\"1\" class=\"dataframe\">\n",
       "  <thead>\n",
       "    <tr style=\"text-align: right;\">\n",
       "      <th></th>\n",
       "      <th>reviewId</th>\n",
       "      <th>userName</th>\n",
       "      <th>userImage</th>\n",
       "      <th>content</th>\n",
       "      <th>score</th>\n",
       "      <th>thumbsUpCount</th>\n",
       "      <th>reviewCreatedVersion</th>\n",
       "      <th>at</th>\n",
       "      <th>replyContent</th>\n",
       "      <th>repliedAt</th>\n",
       "    </tr>\n",
       "  </thead>\n",
       "  <tbody>\n",
       "    <tr>\n",
       "      <th>0</th>\n",
       "      <td>gp:AOqpTOFjz5e9ioJtbi-HvBz7SH9XQ5_IoGk9U8Pr5s0...</td>\n",
       "      <td>Carlos Ortega</td>\n",
       "      <td>https://play-lh.googleusercontent.com/a/AATXAJ...</td>\n",
       "      <td>Muy buena aplicacion</td>\n",
       "      <td>5</td>\n",
       "      <td>0</td>\n",
       "      <td>11.4.0</td>\n",
       "      <td>2021-07-30 21:39:06</td>\n",
       "      <td>None</td>\n",
       "      <td>NaT</td>\n",
       "    </tr>\n",
       "    <tr>\n",
       "      <th>1</th>\n",
       "      <td>gp:AOqpTOGPMRc3QrLlDSZ5XVM_pgQImI8P9Ofkgnp0Zjm...</td>\n",
       "      <td>Thony Gutierrez</td>\n",
       "      <td>https://play-lh.googleusercontent.com/a/AATXAJ...</td>\n",
       "      <td>Que servicio tan malo, intento comunicarme con...</td>\n",
       "      <td>1</td>\n",
       "      <td>0</td>\n",
       "      <td>11.4.0</td>\n",
       "      <td>2021-07-30 21:17:47</td>\n",
       "      <td>None</td>\n",
       "      <td>NaT</td>\n",
       "    </tr>\n",
       "    <tr>\n",
       "      <th>2</th>\n",
       "      <td>gp:AOqpTOGjeH1K5sGpZlPj_2fkqRx6m6s0_jD4wLscjux...</td>\n",
       "      <td>Alfonso Gomez</td>\n",
       "      <td>https://play-lh.googleusercontent.com/a/AATXAJ...</td>\n",
       "      <td>Excelente Servicio muy bien muchas gracias</td>\n",
       "      <td>5</td>\n",
       "      <td>0</td>\n",
       "      <td>11.4.0</td>\n",
       "      <td>2021-07-30 20:52:06</td>\n",
       "      <td>None</td>\n",
       "      <td>NaT</td>\n",
       "    </tr>\n",
       "    <tr>\n",
       "      <th>3</th>\n",
       "      <td>gp:AOqpTOE4Wm3ydshHQrh0f7XDu9R7gzidN4Z6BVrTngB...</td>\n",
       "      <td>gustavo toloza</td>\n",
       "      <td>https://play-lh.googleusercontent.com/a-/AOh14...</td>\n",
       "      <td>Desde la actualización realizada el 28-07-2021...</td>\n",
       "      <td>1</td>\n",
       "      <td>0</td>\n",
       "      <td>11.4.0</td>\n",
       "      <td>2021-07-30 20:29:43</td>\n",
       "      <td>None</td>\n",
       "      <td>NaT</td>\n",
       "    </tr>\n",
       "    <tr>\n",
       "      <th>4</th>\n",
       "      <td>gp:AOqpTOFQt_hg8N5dGhSEw2-0FwOtEINg6nB5VpqFhwV...</td>\n",
       "      <td>diego luis arrubla castrillon</td>\n",
       "      <td>https://play-lh.googleusercontent.com/a-/AOh14...</td>\n",
       "      <td>Si lleva más de una semana mala la señal no se...</td>\n",
       "      <td>1</td>\n",
       "      <td>0</td>\n",
       "      <td>8.7.2</td>\n",
       "      <td>2021-07-30 20:28:51</td>\n",
       "      <td>None</td>\n",
       "      <td>NaT</td>\n",
       "    </tr>\n",
       "  </tbody>\n",
       "</table>\n",
       "</div>"
      ],
      "text/plain": [
       "                                            reviewId  \\\n",
       "0  gp:AOqpTOFjz5e9ioJtbi-HvBz7SH9XQ5_IoGk9U8Pr5s0...   \n",
       "1  gp:AOqpTOGPMRc3QrLlDSZ5XVM_pgQImI8P9Ofkgnp0Zjm...   \n",
       "2  gp:AOqpTOGjeH1K5sGpZlPj_2fkqRx6m6s0_jD4wLscjux...   \n",
       "3  gp:AOqpTOE4Wm3ydshHQrh0f7XDu9R7gzidN4Z6BVrTngB...   \n",
       "4  gp:AOqpTOFQt_hg8N5dGhSEw2-0FwOtEINg6nB5VpqFhwV...   \n",
       "\n",
       "                        userName  \\\n",
       "0                  Carlos Ortega   \n",
       "1                Thony Gutierrez   \n",
       "2                  Alfonso Gomez   \n",
       "3                 gustavo toloza   \n",
       "4  diego luis arrubla castrillon   \n",
       "\n",
       "                                           userImage  \\\n",
       "0  https://play-lh.googleusercontent.com/a/AATXAJ...   \n",
       "1  https://play-lh.googleusercontent.com/a/AATXAJ...   \n",
       "2  https://play-lh.googleusercontent.com/a/AATXAJ...   \n",
       "3  https://play-lh.googleusercontent.com/a-/AOh14...   \n",
       "4  https://play-lh.googleusercontent.com/a-/AOh14...   \n",
       "\n",
       "                                             content  score  thumbsUpCount  \\\n",
       "0                               Muy buena aplicacion      5              0   \n",
       "1  Que servicio tan malo, intento comunicarme con...      1              0   \n",
       "2         Excelente Servicio muy bien muchas gracias      5              0   \n",
       "3  Desde la actualización realizada el 28-07-2021...      1              0   \n",
       "4  Si lleva más de una semana mala la señal no se...      1              0   \n",
       "\n",
       "  reviewCreatedVersion                  at replyContent repliedAt  \n",
       "0               11.4.0 2021-07-30 21:39:06         None       NaT  \n",
       "1               11.4.0 2021-07-30 21:17:47         None       NaT  \n",
       "2               11.4.0 2021-07-30 20:52:06         None       NaT  \n",
       "3               11.4.0 2021-07-30 20:29:43         None       NaT  \n",
       "4                8.7.2 2021-07-30 20:28:51         None       NaT  "
      ]
     },
     "execution_count": 61,
     "metadata": {},
     "output_type": "execute_result"
    }
   ],
   "source": [
    "df.head()"
   ]
  },
  {
   "cell_type": "markdown",
   "id": "3f17c451-753a-4085-911a-de931861a911",
   "metadata": {},
   "source": [
    "# Obtencio de datos mediante Selenium (Web scraping)"
   ]
  },
  {
   "cell_type": "code",
   "execution_count": 80,
   "id": "5cc04dc7-99e3-4406-81cc-574937a4f09b",
   "metadata": {},
   "outputs": [
    {
     "name": "stderr",
     "output_type": "stream",
     "text": [
      "\n",
      "\n",
      "====== WebDriver manager ======\n",
      "Current google-chrome version is 92.0.4515\n",
      "Get LATEST driver version for 92.0.4515\n",
      "Driver [C:\\Users\\CRISTIAN\\.wdm\\drivers\\chromedriver\\win32\\92.0.4515.107\\chromedriver.exe] found in cache\n"
     ]
    }
   ],
   "source": [
    "driver = webdriver.Chrome(ChromeDriverManager().install())\n",
    "driver.get(url)"
   ]
  },
  {
   "cell_type": "markdown",
   "id": "13b06ee3-c203-4924-8605-864f25ca87cb",
   "metadata": {},
   "source": [
    "### Se simula el scrolldown infinitamente con selenium para seguir cargando mas comentarios"
   ]
  },
  {
   "cell_type": "code",
   "execution_count": 81,
   "id": "961d169b-305b-4c94-82fd-c3a711d4702c",
   "metadata": {},
   "outputs": [],
   "source": [
    "SCROLL_PAUSE_TIME = 1\n",
    "\n",
    "last_height = driver.execute_script(\"return document.body.scrollHeight\")\n",
    "\n",
    "while True:\n",
    "    driver.execute_script(\"window.scrollTo(0, document.body.scrollHeight);\")\n",
    "\n",
    "    time.sleep(SCROLL_PAUSE_TIME)\n",
    "\n",
    "    new_height = driver.execute_script(\"return document.body.scrollHeight\")\n",
    "    \n",
    "    if new_height == last_height:\n",
    "        break\n",
    "    last_height = new_height\n",
    "    \n",
    "url_soup = BeautifulSoup(driver.page_source, 'html.parser')\n",
    "driver.quit()"
   ]
  },
  {
   "cell_type": "markdown",
   "id": "dff1b480-485d-4fb6-ada6-876289f18c0f",
   "metadata": {},
   "source": [
    "### Se busca la seccion de comentarios en base a un titulo en el html"
   ]
  },
  {
   "cell_type": "code",
   "execution_count": 87,
   "id": "6afa9948-d229-46c5-aadd-0df575dad045",
   "metadata": {},
   "outputs": [
    {
     "data": {
      "text/plain": [
       "<h3 class=\"td1D0d\">Opiniones de usuarios</h3>"
      ]
     },
     "execution_count": 87,
     "metadata": {},
     "output_type": "execute_result"
    }
   ],
   "source": [
    "seccion_de_comentarios = url_soup.find(\"h3\", text=\"Opiniones de usuarios\")\n",
    "seccion_de_comentarios"
   ]
  },
  {
   "cell_type": "markdown",
   "id": "73aa8a8a-3e38-40c6-9e8d-e051a59c36cb",
   "metadata": {},
   "source": [
    "### Se obtiene el div que contiene todos los comentarios"
   ]
  },
  {
   "cell_type": "code",
   "execution_count": 124,
   "id": "ca8a2adc-c4c1-40ca-9129-cc13a5411e50",
   "metadata": {},
   "outputs": [
    {
     "name": "stdout",
     "output_type": "stream",
     "text": [
      "<div jsname=\"fk8dgd\"><div jscontroller=\"H6eOGe\" jsdata=\"yf3HXc;gp:AOqpTOG0hIJl-Bs382MQOjLDMc6T861bvcPMHNvDnL8XAdXGJ-VvaiWpOaffzVi9BN1_SaaVT4oqaPEXDlnTAwM;$3 YjFXEf;_;$4\" jsmodel=\"y8Aajc\"><div class=\"zc7KVe\"><div aria-hidden=\"true\" class=\"vDSMeb bAhLNe\"><img aria-hidden=\"true\" class=\"T75of ZqMJr\" data-iml=\"846.2000000011176\" src=\"https://play-lh.googleusercontent.com/a/AATXAJza5PnPeu2mF3SeGGQCtXjzhtwXISPY7hpIsSSn=w48-h48-n-rw-mo\" srcset=\"https://play-lh.googleusercontent.com/a/AATXAJza5PnPeu2mF3SeGGQCtXjzhtwXISPY7hpIsSSn=w96-h96-n-rw-mo 2x\"/></div><div class=\"d15Mdf bAhLNe\"><div class=\"xKpxId zc7KVe\"><div class=\"bAhLNe kx8XBd\"><span class=\"X43Kjb\">Cecilia Rodríguez</span><div><span class=\"nt2C1d\"><div class=\"pf5lIe\"><div aria-label=\"Calificación: 1 de cinco estrellas\" role=\"img\"><div class=\"vQHuPe bUWb7c\"></div><div class=\"L0jl5e bUWb7c\"></div><div class=\"L0jl5e bUWb7c\"></div><div class=\"L0jl5e bUWb7c\"></div><div class=\"L0jl5e bUWb7c\"></div></div></div></span><span class=\"p2TkOb\">July 2\n"
     ]
    }
   ],
   "source": [
    "comentarios = seccion_de_comentarios.find_next_sibling(\"div\")\n",
    "print(str(comentarios)[0:1000])"
   ]
  },
  {
   "cell_type": "markdown",
   "id": "02741c9a-a422-45ea-9f96-1d6e39de6d34",
   "metadata": {},
   "source": [
    "### Obtencion de comentarios"
   ]
  },
  {
   "cell_type": "code",
   "execution_count": 138,
   "id": "c0fd4df2-4eac-4846-98a6-eb30e0754d0b",
   "metadata": {},
   "outputs": [],
   "source": [
    "textos = comentarios.find_all('div', class_ = \"UD7Dzf\")"
   ]
  },
  {
   "cell_type": "code",
   "execution_count": 141,
   "id": "0bf9f2c4-d394-4c9b-89f6-e9cbd575be8c",
   "metadata": {},
   "outputs": [
    {
     "data": {
      "text/plain": [
       "' Claro es lo peor últimamente en telefonía celular, no hay señal para las llamadas y mucho menos para datos, he llamado varias veces sin solución, después de muchos años desde que era celcaribe, me tocó cambiar de operador. En telefonía fija el internet nunca funciona, ya estoy cansada de está situac…Ver opinión completaClaro es lo peor últimamente en telefonía celular, no hay señal para las llamadas y mucho menos para datos, he llamado varias veces sin solución, después de muchos años desde que era celcaribe, me tocó cambiar de operador. En telefonía fija el internet nunca funciona, ya estoy cansada de está situación, uno llama y cuando vienen no le SOLUCIONAN Nada.'"
      ]
     },
     "execution_count": 141,
     "metadata": {},
     "output_type": "execute_result"
    }
   ],
   "source": [
    "textos[0].text"
   ]
  },
  {
   "cell_type": "code",
   "execution_count": 143,
   "id": "987fbc0f-f4f0-435e-91d4-f7ea1adacad0",
   "metadata": {},
   "outputs": [
    {
     "data": {
      "text/plain": [
       "80845"
      ]
     },
     "execution_count": 143,
     "metadata": {},
     "output_type": "execute_result"
    }
   ],
   "source": [
    "len(textos)"
   ]
  },
  {
   "cell_type": "markdown",
   "id": "d182c2f3-4ea8-47de-b511-a9a92ba2b951",
   "metadata": {},
   "source": [
    "### Obtencion de estrellas"
   ]
  },
  {
   "cell_type": "code",
   "execution_count": 146,
   "id": "5c907e1b-3fc4-4eb3-b944-de322d05d3cd",
   "metadata": {},
   "outputs": [],
   "source": [
    "estrellas = comentarios.find_all('div', class_ = \"pf5lIe\")"
   ]
  },
  {
   "cell_type": "code",
   "execution_count": 148,
   "id": "b0f53cff-2725-47e3-82cc-1959aaffbd60",
   "metadata": {},
   "outputs": [
    {
     "data": {
      "text/plain": [
       "<div class=\"pf5lIe\"><div aria-label=\"Calificación: 1 de cinco estrellas\" role=\"img\"><div class=\"vQHuPe bUWb7c\"></div><div class=\"L0jl5e bUWb7c\"></div><div class=\"L0jl5e bUWb7c\"></div><div class=\"L0jl5e bUWb7c\"></div><div class=\"L0jl5e bUWb7c\"></div></div></div>"
      ]
     },
     "execution_count": 148,
     "metadata": {},
     "output_type": "execute_result"
    }
   ],
   "source": [
    "estrellas[0]"
   ]
  },
  {
   "cell_type": "code",
   "execution_count": 158,
   "id": "10d7b528-e8e5-458e-869b-4561584935f8",
   "metadata": {},
   "outputs": [
    {
     "data": {
      "text/plain": [
       "'1'"
      ]
     },
     "execution_count": 158,
     "metadata": {},
     "output_type": "execute_result"
    }
   ],
   "source": [
    "calificacion = re.search(\"(?<=Calificación: )(.*)(?= de)\", str(estrellas[0])).group(1)\n",
    "calificacion"
   ]
  },
  {
   "cell_type": "code",
   "execution_count": 160,
   "id": "dce9f4da-e123-4f71-80d5-f965dc694403",
   "metadata": {},
   "outputs": [
    {
     "data": {
      "text/plain": [
       "80845"
      ]
     },
     "execution_count": 160,
     "metadata": {},
     "output_type": "execute_result"
    }
   ],
   "source": [
    "len(estrellas)"
   ]
  },
  {
   "cell_type": "markdown",
   "id": "9bd4df73-4cc4-463f-9b4d-344af9f5b280",
   "metadata": {},
   "source": [
    "### Agrupamiento de los datos deseados "
   ]
  },
  {
   "cell_type": "code",
   "execution_count": 164,
   "id": "b0fbac24-6cdb-4b94-a2f4-79e8b1dd91c6",
   "metadata": {},
   "outputs": [],
   "source": [
    "lista_comentarios = []\n",
    "lista_calificaciones = []\n",
    "\n",
    "for i in range(len(textos)):\n",
    "    lista_comentarios.append(textos[i].text)\n",
    "    lista_calificaciones.append(re.search(\"(?<=Calificación: )(.*)(?= de)\", str(estrellas[i])).group(1))"
   ]
  },
  {
   "cell_type": "code",
   "execution_count": 167,
   "id": "b70569a4-64de-4de5-8a46-ae6593ceecbe",
   "metadata": {},
   "outputs": [
    {
     "data": {
      "text/plain": [
       "[' Claro es lo peor últimamente en telefonía celular, no hay señal para las llamadas y mucho menos para datos, he llamado varias veces sin solución, después de muchos años desde que era celcaribe, me tocó cambiar de operador. En telefonía fija el internet nunca funciona, ya estoy cansada de está situac…Ver opinión completaClaro es lo peor últimamente en telefonía celular, no hay señal para las llamadas y mucho menos para datos, he llamado varias veces sin solución, después de muchos años desde que era celcaribe, me tocó cambiar de operador. En telefonía fija el internet nunca funciona, ya estoy cansada de está situación, uno llama y cuando vienen no le SOLUCIONAN Nada.',\n",
       " ' Tiene buenas opciones en la app como tal. Lástima que no funcionen. Se supone que al ser una empresa tan grande deberían tener una buena app y más aún en tiempos de pandemia, cuando para muchas personas es imposible o \"no seguro\" salir a hacer trámites de pagos y otros tantos. Pésima app e inútil di…Ver opinión completaTiene buenas opciones en la app como tal. Lástima que no funcionen. Se supone que al ser una empresa tan grande deberían tener una buena app y más aún en tiempos de pandemia, cuando para muchas personas es imposible o \"no seguro\" salir a hacer trámites de pagos y otros tantos. Pésima app e inútil diría yo. Al tratar de realizar un pago dice que la sesión ha expirado. Entonces si no se puede salir para que es la app si no funciona?',\n",
       " ' Desde hace un año que compré éste paquete, ha sido un desperdicio de dinero, el 80% del supuesto servicio siempre estaba sin señal y eso que tenía un sólo aparato conectado. Tener hogar claro y a la vez claro post pago, el último señalado se atiene al primero y viceversa, en total post pago baja su …Ver opinión completaDesde hace un año que compré éste paquete, ha sido un desperdicio de dinero, el 80% del supuesto servicio siempre estaba sin señal y eso que tenía un sólo aparato conectado. Tener hogar claro y a la vez claro post pago, el último señalado se atiene al primero y viceversa, en total post pago baja su calidad de servicio; dicho ésto, solicito la desconexión inmediata de claro hogar']"
      ]
     },
     "execution_count": 167,
     "metadata": {},
     "output_type": "execute_result"
    }
   ],
   "source": [
    "lista_comentarios[0:3]"
   ]
  },
  {
   "cell_type": "code",
   "execution_count": 168,
   "id": "e5504d6e-ef1c-49a5-8ba3-3c4d502ecde0",
   "metadata": {},
   "outputs": [
    {
     "data": {
      "text/plain": [
       "['1', '1', '2']"
      ]
     },
     "execution_count": 168,
     "metadata": {},
     "output_type": "execute_result"
    }
   ],
   "source": [
    "lista_calificaciones[0:3]"
   ]
  },
  {
   "cell_type": "markdown",
   "id": "05bf0260-a199-4cf3-a9c0-6a9639bd5aeb",
   "metadata": {},
   "source": [
    "### Creacion de un dataframe con los datos obtenidos del web scrapping"
   ]
  },
  {
   "cell_type": "code",
   "execution_count": 169,
   "id": "2c439f97-612e-4744-83c3-0ac1eb2f324a",
   "metadata": {},
   "outputs": [
    {
     "data": {
      "text/html": [
       "<div>\n",
       "<style scoped>\n",
       "    .dataframe tbody tr th:only-of-type {\n",
       "        vertical-align: middle;\n",
       "    }\n",
       "\n",
       "    .dataframe tbody tr th {\n",
       "        vertical-align: top;\n",
       "    }\n",
       "\n",
       "    .dataframe thead th {\n",
       "        text-align: right;\n",
       "    }\n",
       "</style>\n",
       "<table border=\"1\" class=\"dataframe\">\n",
       "  <thead>\n",
       "    <tr style=\"text-align: right;\">\n",
       "      <th></th>\n",
       "      <th>Comentarios</th>\n",
       "      <th>Calificaciones</th>\n",
       "    </tr>\n",
       "  </thead>\n",
       "  <tbody>\n",
       "    <tr>\n",
       "      <th>0</th>\n",
       "      <td>Claro es lo peor últimamente en telefonía cel...</td>\n",
       "      <td>1</td>\n",
       "    </tr>\n",
       "    <tr>\n",
       "      <th>1</th>\n",
       "      <td>Tiene buenas opciones en la app como tal. Lás...</td>\n",
       "      <td>1</td>\n",
       "    </tr>\n",
       "    <tr>\n",
       "      <th>2</th>\n",
       "      <td>Desde hace un año que compré éste paquete, ha...</td>\n",
       "      <td>2</td>\n",
       "    </tr>\n",
       "    <tr>\n",
       "      <th>3</th>\n",
       "      <td>Llevo más de un año con el servicio de claro ...</td>\n",
       "      <td>3</td>\n",
       "    </tr>\n",
       "    <tr>\n",
       "      <th>4</th>\n",
       "      <td>La App de Claro es buena. Lo que no es bueno ...</td>\n",
       "      <td>4</td>\n",
       "    </tr>\n",
       "  </tbody>\n",
       "</table>\n",
       "</div>"
      ],
      "text/plain": [
       "                                         Comentarios Calificaciones\n",
       "0   Claro es lo peor últimamente en telefonía cel...              1\n",
       "1   Tiene buenas opciones en la app como tal. Lás...              1\n",
       "2   Desde hace un año que compré éste paquete, ha...              2\n",
       "3   Llevo más de un año con el servicio de claro ...              3\n",
       "4   La App de Claro es buena. Lo que no es bueno ...              4"
      ]
     },
     "execution_count": 169,
     "metadata": {},
     "output_type": "execute_result"
    }
   ],
   "source": [
    "df_scrapping = pd.DataFrame(columns=['Comentarios','Calificaciones'])\n",
    "df_scrapping['Comentarios'] = lista_comentarios\n",
    "df_scrapping['Calificaciones'] = lista_calificaciones\n",
    "df_scrapping.head()"
   ]
  },
  {
   "cell_type": "markdown",
   "id": "41131ec2-b587-4142-8b4f-5efeca93f435",
   "metadata": {},
   "source": [
    "# Conclusiones\n",
    "Al comparar los dos metodos tanto en su tiempo de ejecucion como en la cantidad de comentarios obtenidos el ganador aparente fue la libreria <strong>google_play_scraper</strong> respecto al webscrapping empleando selenium, esto se debe a que el tiempo de obtencion de datos mediante la libreria fue de aproximadamente 2 minutos contra los 15 minutos que tomo selenium en hacer el webscrapping, ademas que el uso de la libreria es mucho mas sencillo y flexible respecto al webscrapping, por lo que esta queda seleccionada para su uso en la API."
   ]
  },
  {
   "cell_type": "markdown",
   "id": "4fc2ce72-20e7-4374-a4a4-a9c91f359f0d",
   "metadata": {},
   "source": [
    "### Se guardan los datos para su uso posterior"
   ]
  },
  {
   "cell_type": "code",
   "execution_count": 176,
   "id": "e35329e0-0c1e-4881-b939-4b00f0cb2158",
   "metadata": {},
   "outputs": [],
   "source": [
    "file_name = \"../DATA/reviews_app_claro.csv\"\n",
    "df.to_csv(file_name, encoding='utf-8', index= False)"
   ]
  },
  {
   "cell_type": "code",
   "execution_count": null,
   "id": "69007d9e-cc5c-46bf-a82a-8cd82c9d4b5d",
   "metadata": {},
   "outputs": [],
   "source": []
  }
 ],
 "metadata": {
  "kernelspec": {
   "display_name": "Python 3",
   "language": "python",
   "name": "python3"
  },
  "language_info": {
   "codemirror_mode": {
    "name": "ipython",
    "version": 3
   },
   "file_extension": ".py",
   "mimetype": "text/x-python",
   "name": "python",
   "nbconvert_exporter": "python",
   "pygments_lexer": "ipython3",
   "version": "3.7.10"
  }
 },
 "nbformat": 4,
 "nbformat_minor": 5
}
