{
 "cells": [
  {
   "cell_type": "code",
   "execution_count": 175,
   "id": "2e66e6fb-72b8-4708-b368-16459c8f73f4",
   "metadata": {
    "tags": []
   },
   "outputs": [
    {
     "name": "stderr",
     "output_type": "stream",
     "text": [
      "[nltk_data] Downloading package brown to\n",
      "[nltk_data]     C:\\Users\\CRISTIAN\\AppData\\Roaming\\nltk_data...\n",
      "[nltk_data]   Package brown is already up-to-date!\n",
      "[nltk_data] Downloading package names to\n",
      "[nltk_data]     C:\\Users\\CRISTIAN\\AppData\\Roaming\\nltk_data...\n",
      "[nltk_data]   Package names is already up-to-date!\n",
      "[nltk_data] Downloading package wordnet to\n",
      "[nltk_data]     C:\\Users\\CRISTIAN\\AppData\\Roaming\\nltk_data...\n",
      "[nltk_data]   Package wordnet is already up-to-date!\n",
      "[nltk_data] Downloading package averaged_perceptron_tagger to\n",
      "[nltk_data]     C:\\Users\\CRISTIAN\\AppData\\Roaming\\nltk_data...\n",
      "[nltk_data]   Package averaged_perceptron_tagger is already up-to-\n",
      "[nltk_data]       date!\n",
      "[nltk_data] Downloading package universal_tagset to\n",
      "[nltk_data]     C:\\Users\\CRISTIAN\\AppData\\Roaming\\nltk_data...\n",
      "[nltk_data]   Package universal_tagset is already up-to-date!\n"
     ]
    }
   ],
   "source": [
    "import numpy as np\n",
    "import pandas as pd\n",
    "import matplotlib.pyplot as plt\n",
    "import math\n",
    "\n",
    "from sklearn.model_selection import train_test_split\n",
    "from sklearn.pipeline import Pipeline\n",
    "from sklearn.naive_bayes import MultinomialNB\n",
    "from sklearn.metrics import (\n",
    "    accuracy_score,\n",
    "    recall_score,\n",
    "    precision_score,\n",
    "    classification_report,\n",
    "    plot_confusion_matrix,\n",
    ")\n",
    "from sklearn.feature_extraction.text import TfidfVectorizer, CountVectorizer\n",
    "\n",
    "from string import punctuation \n",
    "\n",
    "from nltk.tokenize import word_tokenize\n",
    "import nltk\n",
    "from nltk.corpus import stopwords\n",
    "from nltk.stem import SnowballStemmer\n",
    "from nltk.tokenize import ToktokTokenizer\n",
    "import re \n",
    "\n",
    "for dependency in (\n",
    "    \"brown\",\n",
    "    \"names\",\n",
    "    \"wordnet\",\n",
    "    \"averaged_perceptron_tagger\",\n",
    "    \"universal_tagset\",\n",
    "):\n",
    "    nltk.download(dependency)\n",
    "    \n",
    "import warnings\n",
    "warnings.filterwarnings(\"ignore\")\n",
    "np.random.seed(43)\n",
    "\n",
    "import joblib "
   ]
  },
  {
   "cell_type": "code",
   "execution_count": 3,
   "id": "c8307319-f91f-4bc7-b236-30fe9bbf5b54",
   "metadata": {},
   "outputs": [
    {
     "data": {
      "text/html": [
       "<div>\n",
       "<style scoped>\n",
       "    .dataframe tbody tr th:only-of-type {\n",
       "        vertical-align: middle;\n",
       "    }\n",
       "\n",
       "    .dataframe tbody tr th {\n",
       "        vertical-align: top;\n",
       "    }\n",
       "\n",
       "    .dataframe thead th {\n",
       "        text-align: right;\n",
       "    }\n",
       "</style>\n",
       "<table border=\"1\" class=\"dataframe\">\n",
       "  <thead>\n",
       "    <tr style=\"text-align: right;\">\n",
       "      <th></th>\n",
       "      <th>comentario</th>\n",
       "      <th>calificacion</th>\n",
       "    </tr>\n",
       "  </thead>\n",
       "  <tbody>\n",
       "    <tr>\n",
       "      <th>0</th>\n",
       "      <td>Muy buena aplicacion</td>\n",
       "      <td>5</td>\n",
       "    </tr>\n",
       "    <tr>\n",
       "      <th>1</th>\n",
       "      <td>Que servicio tan malo, intento comunicarme con...</td>\n",
       "      <td>1</td>\n",
       "    </tr>\n",
       "    <tr>\n",
       "      <th>2</th>\n",
       "      <td>Excelente Servicio muy bien muchas gracias</td>\n",
       "      <td>5</td>\n",
       "    </tr>\n",
       "    <tr>\n",
       "      <th>3</th>\n",
       "      <td>Desde la actualización realizada el 28-07-2021...</td>\n",
       "      <td>1</td>\n",
       "    </tr>\n",
       "    <tr>\n",
       "      <th>4</th>\n",
       "      <td>Si lleva más de una semana mala la señal no se...</td>\n",
       "      <td>1</td>\n",
       "    </tr>\n",
       "  </tbody>\n",
       "</table>\n",
       "</div>"
      ],
      "text/plain": [
       "                                          comentario  calificacion\n",
       "0                               Muy buena aplicacion             5\n",
       "1  Que servicio tan malo, intento comunicarme con...             1\n",
       "2         Excelente Servicio muy bien muchas gracias             5\n",
       "3  Desde la actualización realizada el 28-07-2021...             1\n",
       "4  Si lleva más de una semana mala la señal no se...             1"
      ]
     },
     "execution_count": 3,
     "metadata": {},
     "output_type": "execute_result"
    }
   ],
   "source": [
    "file_name = \"../DATA/data.csv\"\n",
    "reviews = pd.read_csv(file_name)\n",
    "reviews.head()"
   ]
  },
  {
   "cell_type": "markdown",
   "id": "2d6f25a6-2513-4f1f-851a-a8930503c558",
   "metadata": {},
   "source": [
    "### Exploracion de los datos"
   ]
  },
  {
   "cell_type": "code",
   "execution_count": 10,
   "id": "89898118-498d-4395-b7ae-cf8c41214425",
   "metadata": {},
   "outputs": [
    {
     "data": {
      "text/plain": [
       "5    45059\n",
       "1    24023\n",
       "4     8469\n",
       "3     4796\n",
       "2     4493\n",
       "Name: calificacion, dtype: int64"
      ]
     },
     "execution_count": 10,
     "metadata": {},
     "output_type": "execute_result"
    }
   ],
   "source": [
    "reviews['calificacion'].value_counts()"
   ]
  },
  {
   "cell_type": "code",
   "execution_count": 48,
   "id": "f97d73d5-8590-4f5c-9d91-3038badbc8c2",
   "metadata": {},
   "outputs": [
    {
     "data": {
      "text/plain": [
       "<Figure size 800x960 with 0 Axes>"
      ]
     },
     "execution_count": 48,
     "metadata": {},
     "output_type": "execute_result"
    },
    {
     "data": {
      "image/png": "[encoded data removed]",
      "text/plain": [
       "<Figure size 432x288 with 1 Axes>"
      ]
     },
     "metadata": {
      "needs_background": "light"
     },
     "output_type": "display_data"
    },
    {
     "data": {
      "text/plain": [
       "<Figure size 800x960 with 0 Axes>"
      ]
     },
     "metadata": {},
     "output_type": "display_data"
    }
   ],
   "source": [
    "reviews['calificacion'].value_counts().plot(kind='bar')\n",
    "plt.title('Histograma de calificaciones')\n",
    "plt.figure(figsize=(10, 12), dpi=80)"
   ]
  },
  {
   "cell_type": "code",
   "execution_count": null,
   "id": "40763891-0c67-47fc-8a13-352a2b4b2a15",
   "metadata": {},
   "outputs": [],
   "source": []
  },
  {
   "cell_type": "code",
   "execution_count": 20,
   "id": "139127de-ac0a-4815-9a47-0b4381a7c9e5",
   "metadata": {},
   "outputs": [],
   "source": [
    "length_review = []\n",
    "for x in range(reviews.shape[0]): length_review.append(len(reviews.iloc[x]['comentario']))"
   ]
  },
  {
   "cell_type": "code",
   "execution_count": 53,
   "id": "ee782869-be35-4176-9415-3ac8cd5262c2",
   "metadata": {},
   "outputs": [
    {
     "data": {
      "text/plain": [
       "<Figure size 1200x1000 with 0 Axes>"
      ]
     },
     "execution_count": 53,
     "metadata": {},
     "output_type": "execute_result"
    },
    {
     "data": {
      "image/png": "[encoded data removed]",
      "text/plain": [
       "<Figure size 432x288 with 1 Axes>"
      ]
     },
     "metadata": {
      "needs_background": "light"
     },
     "output_type": "display_data"
    },
    {
     "data": {
      "text/plain": [
       "<Figure size 1200x1000 with 0 Axes>"
      ]
     },
     "metadata": {},
     "output_type": "display_data"
    }
   ],
   "source": [
    "bins = np.linspace(math.ceil(min(length_review)), \n",
    "                   math.floor(max(length_review)),\n",
    "                   50) \n",
    "\n",
    "plt.xlim([-10, 600])\n",
    "plt.hist(length_review, bins=bins, alpha=1)\n",
    "plt.title('Histograma de la longitud de los comentarios')\n",
    "plt.figure(figsize=(12, 10), dpi=100)"
   ]
  },
  {
   "cell_type": "markdown",
   "id": "15efee20-6a03-4e9b-99b9-edd877d72391",
   "metadata": {},
   "source": [
    "# Entrenamiento de modelos"
   ]
  },
  {
   "cell_type": "markdown",
   "id": "9347c04e-f4b8-4c93-b150-48febe55649d",
   "metadata": {},
   "source": [
    "## Modelo para determinar la connotación de los comentarios"
   ]
  },
  {
   "cell_type": "markdown",
   "id": "3ea609e6-d37a-4eb7-8547-c962316a93a3",
   "metadata": {},
   "source": [
    "Para obtener las connotaciones de las opinionbes se hizo uso de las calificaciones en donde una calificacion de 4 y 5 estrellas se considera positiva (1). de 1 y 2 estrellas se considera negativa (-1) y de 3 se considera neutra (0)."
   ]
  },
  {
   "cell_type": "code",
   "execution_count": 130,
   "id": "caa85bbf-356d-4b22-9de0-256bc340840e",
   "metadata": {},
   "outputs": [],
   "source": [
    "def generar_connotacion_en_base_a_calificacion(calificacion):\n",
    "    \n",
    "    if calificacion >= 4:\n",
    "        return 1\n",
    "    elif calificacion <= 2:\n",
    "        return -1\n",
    "    else:\n",
    "        return 0"
   ]
  },
  {
   "cell_type": "code",
   "execution_count": 131,
   "id": "28bdabcc-8aee-4891-97b2-3df93ff6c0f1",
   "metadata": {},
   "outputs": [],
   "source": [
    "reviews['connotacion'] = reviews['calificacion'].apply(lambda x: generar_connotacion_en_base_a_calificacion(x))"
   ]
  },
  {
   "cell_type": "code",
   "execution_count": 132,
   "id": "ec6176ce-f675-4b08-abae-c21e121861da",
   "metadata": {},
   "outputs": [
    {
     "data": {
      "text/html": [
       "<div>\n",
       "<style scoped>\n",
       "    .dataframe tbody tr th:only-of-type {\n",
       "        vertical-align: middle;\n",
       "    }\n",
       "\n",
       "    .dataframe tbody tr th {\n",
       "        vertical-align: top;\n",
       "    }\n",
       "\n",
       "    .dataframe thead th {\n",
       "        text-align: right;\n",
       "    }\n",
       "</style>\n",
       "<table border=\"1\" class=\"dataframe\">\n",
       "  <thead>\n",
       "    <tr style=\"text-align: right;\">\n",
       "      <th></th>\n",
       "      <th>comentario</th>\n",
       "      <th>calificacion</th>\n",
       "      <th>connotacion</th>\n",
       "      <th>comentario_limpiado</th>\n",
       "    </tr>\n",
       "  </thead>\n",
       "  <tbody>\n",
       "    <tr>\n",
       "      <th>0</th>\n",
       "      <td>Muy buena aplicacion</td>\n",
       "      <td>5</td>\n",
       "      <td>1</td>\n",
       "      <td>[buen, aplicacion]</td>\n",
       "    </tr>\n",
       "    <tr>\n",
       "      <th>1</th>\n",
       "      <td>Que servicio tan malo, intento comunicarme con...</td>\n",
       "      <td>1</td>\n",
       "      <td>-1</td>\n",
       "      <td>[servici, tan, mal, intent, comunic, usted, fo...</td>\n",
       "    </tr>\n",
       "    <tr>\n",
       "      <th>2</th>\n",
       "      <td>Excelente Servicio muy bien muchas gracias</td>\n",
       "      <td>5</td>\n",
       "      <td>1</td>\n",
       "      <td>[excelent, servici, bien, much, graci]</td>\n",
       "    </tr>\n",
       "    <tr>\n",
       "      <th>3</th>\n",
       "      <td>Desde la actualización realizada el 28-07-2021...</td>\n",
       "      <td>1</td>\n",
       "      <td>-1</td>\n",
       "      <td>[actualiz, realiz, sal, mensaj, pued, conect, ...</td>\n",
       "    </tr>\n",
       "    <tr>\n",
       "      <th>4</th>\n",
       "      <td>Si lleva más de una semana mala la señal no se...</td>\n",
       "      <td>1</td>\n",
       "      <td>-1</td>\n",
       "      <td>[si, llev, seman, mal, señal, pued, llam, enti...</td>\n",
       "    </tr>\n",
       "  </tbody>\n",
       "</table>\n",
       "</div>"
      ],
      "text/plain": [
       "                                          comentario  calificacion  \\\n",
       "0                               Muy buena aplicacion             5   \n",
       "1  Que servicio tan malo, intento comunicarme con...             1   \n",
       "2         Excelente Servicio muy bien muchas gracias             5   \n",
       "3  Desde la actualización realizada el 28-07-2021...             1   \n",
       "4  Si lleva más de una semana mala la señal no se...             1   \n",
       "\n",
       "   connotacion                                comentario_limpiado  \n",
       "0            1                                 [buen, aplicacion]  \n",
       "1           -1  [servici, tan, mal, intent, comunic, usted, fo...  \n",
       "2            1             [excelent, servici, bien, much, graci]  \n",
       "3           -1  [actualiz, realiz, sal, mensaj, pued, conect, ...  \n",
       "4           -1  [si, llev, seman, mal, señal, pued, llam, enti...  "
      ]
     },
     "execution_count": 132,
     "metadata": {},
     "output_type": "execute_result"
    }
   ],
   "source": [
    "reviews.head()"
   ]
  },
  {
   "cell_type": "markdown",
   "id": "3d9b68f9-970d-4587-88e9-b828856d3ea2",
   "metadata": {},
   "source": [
    "## Preprocesamiento de los comentarios"
   ]
  },
  {
   "cell_type": "code",
   "execution_count": 120,
   "id": "bff8a8b2-1a3d-44bc-b38a-e11dba119a1d",
   "metadata": {},
   "outputs": [
    {
     "name": "stderr",
     "output_type": "stream",
     "text": [
      "[nltk_data] Downloading package stopwords to\n",
      "[nltk_data]     C:\\Users\\CRISTIAN\\AppData\\Roaming\\nltk_data...\n",
      "[nltk_data]   Package stopwords is already up-to-date!\n"
     ]
    },
    {
     "data": {
      "text/plain": [
       "True"
      ]
     },
     "execution_count": 120,
     "metadata": {},
     "output_type": "execute_result"
    }
   ],
   "source": [
    "nltk.download('stopwords')"
   ]
  },
  {
   "cell_type": "code",
   "execution_count": 144,
   "id": "d584a6c2-5dd4-45c0-9384-e2d6c0c739ad",
   "metadata": {},
   "outputs": [],
   "source": [
    "def limpiado_de_texto(texto, remove_stop_words=True, stemming_words=True):\n",
    "    \n",
    "    # Eliminamos los caracteres especiales\n",
    "    texto = re.sub(r'\\W', ' ', str(texto))\n",
    "    # Eliminado las palabras que tengo un solo caracter\n",
    "    texto = re.sub(r'\\s+[a-zA-Z]\\s+', ' ', texto)\n",
    "    # Sustituir los espacios en blanco en uno solo\n",
    "    texto = re.sub(r'\\s+', ' ', texto, flags=re.I)\n",
    "    # remover numeros\n",
    "    texto = re.sub(r'\\b\\d+(?:\\.\\d+)?\\s+', '', texto) \n",
    "    # Convertimos textos a minusculas\n",
    "    texto = texto.lower()\n",
    "    \n",
    "    # Tokenizado\n",
    "    tokenizer = ToktokTokenizer() \n",
    "    tokens = tokenizer.tokenize(texto)\n",
    "    \n",
    "    # Eliminacion de stopwords\n",
    "    stop_words =  stopwords.words('spanish')\n",
    "    if remove_stop_words:\n",
    "        tokens = [w for w in tokens if not w in stop_words]\n",
    "\n",
    "    # Stemming\n",
    "    stemmer = SnowballStemmer(\"spanish\") \n",
    "    if stemming_words:\n",
    "        tokens = [stemmer.stem(token) for token in tokens]\n",
    "    \n",
    "    text = \" \".join(tokens)\n",
    " \n",
    "    return(text)"
   ]
  },
  {
   "cell_type": "code",
   "execution_count": 145,
   "id": "994420db-bd0b-4069-8bd2-20e2711aa1ea",
   "metadata": {},
   "outputs": [
    {
     "data": {
      "text/plain": [
       "'Desde la actualización realizada el 28-07-2021 me sale un mensaje que no se puede conectar a la red, ni con wi-fi ni con los datos, no he podido ver mis consumos o pagar desde la app, por favor dar solución y sacar la corrección del error'"
      ]
     },
     "execution_count": 145,
     "metadata": {},
     "output_type": "execute_result"
    }
   ],
   "source": [
    "reviews.iloc[3]['comentario']"
   ]
  },
  {
   "cell_type": "code",
   "execution_count": 146,
   "id": "330fb73b-2e5e-47d4-9d68-7be75a3f69f3",
   "metadata": {},
   "outputs": [
    {
     "data": {
      "text/plain": [
       "'actualiz realiz sal mensaj pued conect red wi fi dat pod ver consum pag app favor dar solucion sac correccion error'"
      ]
     },
     "execution_count": 146,
     "metadata": {},
     "output_type": "execute_result"
    }
   ],
   "source": [
    "limpiado_de_texto(reviews.iloc[3]['comentario'])"
   ]
  },
  {
   "cell_type": "code",
   "execution_count": 147,
   "id": "b54dd5cd-d980-47c9-901b-dc3db76d29cc",
   "metadata": {},
   "outputs": [],
   "source": [
    "reviews['comentario_limpiado'] = reviews['comentario'].apply(lambda x: limpiado_de_texto(x))"
   ]
  },
  {
   "cell_type": "code",
   "execution_count": 148,
   "id": "960a9e42-b095-4710-a091-b33d6d4ade72",
   "metadata": {},
   "outputs": [
    {
     "data": {
      "text/html": [
       "<div>\n",
       "<style scoped>\n",
       "    .dataframe tbody tr th:only-of-type {\n",
       "        vertical-align: middle;\n",
       "    }\n",
       "\n",
       "    .dataframe tbody tr th {\n",
       "        vertical-align: top;\n",
       "    }\n",
       "\n",
       "    .dataframe thead th {\n",
       "        text-align: right;\n",
       "    }\n",
       "</style>\n",
       "<table border=\"1\" class=\"dataframe\">\n",
       "  <thead>\n",
       "    <tr style=\"text-align: right;\">\n",
       "      <th></th>\n",
       "      <th>comentario</th>\n",
       "      <th>calificacion</th>\n",
       "      <th>connotacion</th>\n",
       "      <th>comentario_limpiado</th>\n",
       "    </tr>\n",
       "  </thead>\n",
       "  <tbody>\n",
       "    <tr>\n",
       "      <th>0</th>\n",
       "      <td>Muy buena aplicacion</td>\n",
       "      <td>5</td>\n",
       "      <td>1</td>\n",
       "      <td>buen aplicacion</td>\n",
       "    </tr>\n",
       "    <tr>\n",
       "      <th>1</th>\n",
       "      <td>Que servicio tan malo, intento comunicarme con...</td>\n",
       "      <td>1</td>\n",
       "      <td>-1</td>\n",
       "      <td>servici tan mal intent comunic usted form escr...</td>\n",
       "    </tr>\n",
       "    <tr>\n",
       "      <th>2</th>\n",
       "      <td>Excelente Servicio muy bien muchas gracias</td>\n",
       "      <td>5</td>\n",
       "      <td>1</td>\n",
       "      <td>excelent servici bien much graci</td>\n",
       "    </tr>\n",
       "    <tr>\n",
       "      <th>3</th>\n",
       "      <td>Desde la actualización realizada el 28-07-2021...</td>\n",
       "      <td>1</td>\n",
       "      <td>-1</td>\n",
       "      <td>actualiz realiz sal mensaj pued conect red wi ...</td>\n",
       "    </tr>\n",
       "    <tr>\n",
       "      <th>4</th>\n",
       "      <td>Si lleva más de una semana mala la señal no se...</td>\n",
       "      <td>1</td>\n",
       "      <td>-1</td>\n",
       "      <td>si llev seman mal señal pued llam entiend</td>\n",
       "    </tr>\n",
       "  </tbody>\n",
       "</table>\n",
       "</div>"
      ],
      "text/plain": [
       "                                          comentario  calificacion  \\\n",
       "0                               Muy buena aplicacion             5   \n",
       "1  Que servicio tan malo, intento comunicarme con...             1   \n",
       "2         Excelente Servicio muy bien muchas gracias             5   \n",
       "3  Desde la actualización realizada el 28-07-2021...             1   \n",
       "4  Si lleva más de una semana mala la señal no se...             1   \n",
       "\n",
       "   connotacion                                comentario_limpiado  \n",
       "0            1                                    buen aplicacion  \n",
       "1           -1  servici tan mal intent comunic usted form escr...  \n",
       "2            1                   excelent servici bien much graci  \n",
       "3           -1  actualiz realiz sal mensaj pued conect red wi ...  \n",
       "4           -1          si llev seman mal señal pued llam entiend  "
      ]
     },
     "execution_count": 148,
     "metadata": {},
     "output_type": "execute_result"
    }
   ],
   "source": [
    "reviews.head()"
   ]
  },
  {
   "cell_type": "markdown",
   "id": "f9271a3a-cc9e-48b0-8bc8-754829a26126",
   "metadata": {},
   "source": [
    "### Entrenamiento del modelo"
   ]
  },
  {
   "cell_type": "code",
   "execution_count": 164,
   "id": "905eb872-00a9-45de-b5de-d2d06575d051",
   "metadata": {},
   "outputs": [],
   "source": [
    "X = reviews[\"comentario_limpiado\"]\n",
    "y = reviews.connotacion.values"
   ]
  },
  {
   "cell_type": "code",
   "execution_count": 165,
   "id": "a2dbbb02-1b08-4d7b-aa64-df1238d9e466",
   "metadata": {},
   "outputs": [],
   "source": [
    "X_train, X_valid, y_train, y_valid = train_test_split(\n",
    "    X,\n",
    "    y,\n",
    "    test_size=0.15,\n",
    "    random_state=42,\n",
    "    shuffle=True,\n",
    "    stratify=y,\n",
    ")"
   ]
  },
  {
   "cell_type": "code",
   "execution_count": 166,
   "id": "a2e12420-c5e0-4dff-864a-6b68b8a09e3c",
   "metadata": {},
   "outputs": [],
   "source": [
    "sentiment_classifier = Pipeline(steps=[\n",
    "                               ('pre_processing',TfidfVectorizer(lowercase=False)),\n",
    "                                 ('naive_bayes',MultinomialNB())\n",
    "                                 ])"
   ]
  },
  {
   "cell_type": "code",
   "execution_count": 167,
   "id": "adcfaed5-0995-4ab5-beff-a00796eb1691",
   "metadata": {},
   "outputs": [
    {
     "data": {
      "text/plain": [
       "Pipeline(steps=[('pre_processing', TfidfVectorizer(lowercase=False)),\n",
       "                ('naive_bayes', MultinomialNB())])"
      ]
     },
     "execution_count": 167,
     "metadata": {},
     "output_type": "execute_result"
    }
   ],
   "source": [
    "sentiment_classifier.fit(X_train,y_train)"
   ]
  },
  {
   "cell_type": "code",
   "execution_count": 168,
   "id": "71976c68-ec71-4af6-83b3-127f3a0af87a",
   "metadata": {},
   "outputs": [],
   "source": [
    "y_preds = sentiment_classifier.predict(X_valid)"
   ]
  },
  {
   "cell_type": "markdown",
   "id": "8cdc9c63-2f48-43f8-99a9-04436ec79f3b",
   "metadata": {},
   "source": [
    "#### Resultados del modelo"
   ]
  },
  {
   "cell_type": "code",
   "execution_count": 169,
   "id": "c07431c1-8780-4425-a006-567726a8255d",
   "metadata": {},
   "outputs": [
    {
     "data": {
      "text/plain": [
       "0.8819284507907262"
      ]
     },
     "execution_count": 169,
     "metadata": {},
     "output_type": "execute_result"
    }
   ],
   "source": [
    "accuracy_score(y_valid,y_preds)"
   ]
  },
  {
   "cell_type": "code",
   "execution_count": 182,
   "id": "b4393d8d-a486-485f-832e-297cd4b2a906",
   "metadata": {},
   "outputs": [
    {
     "data": {
      "text/plain": [
       "0.8379944126335224"
      ]
     },
     "execution_count": 182,
     "metadata": {},
     "output_type": "execute_result"
    }
   ],
   "source": [
    "precision_score(y_valid,y_preds, average='weighted')"
   ]
  },
  {
   "cell_type": "code",
   "execution_count": 183,
   "id": "4331f36b-b5c5-4e3d-bf30-960120d44694",
   "metadata": {},
   "outputs": [
    {
     "data": {
      "text/plain": [
       "0.8819284507907262"
      ]
     },
     "execution_count": 183,
     "metadata": {},
     "output_type": "execute_result"
    }
   ],
   "source": [
    "recall_score(y_valid,y_preds, average='weighted')"
   ]
  },
  {
   "cell_type": "code",
   "execution_count": 212,
   "id": "8b31b2ac-aa48-419c-b802-eaffc3b255ed",
   "metadata": {},
   "outputs": [
    {
     "data": {
      "image/png": "[encoded data removed]",
      "text/plain": [
       "<Figure size 432x288 with 2 Axes>"
      ]
     },
     "metadata": {
      "needs_background": "light"
     },
     "output_type": "display_data"
    }
   ],
   "source": [
    "plot_confusion_matrix(sentiment_classifier, X_valid, y_valid)  \n",
    "plt.title('Matriz de confusion del modelo de clasificacion de calificacion')\n",
    "plt.show() "
   ]
  },
  {
   "cell_type": "markdown",
   "id": "852fcf11-182e-4151-884b-8708d596f8a5",
   "metadata": {},
   "source": [
    "#### Guadado del modelo"
   ]
  },
  {
   "cell_type": "code",
   "execution_count": 174,
   "id": "5c55bfaa-a37f-4d6e-9372-74166a829d63",
   "metadata": {},
   "outputs": [
    {
     "data": {
      "text/plain": [
       "['../models/sentiment_model.pkl']"
      ]
     },
     "execution_count": 174,
     "metadata": {},
     "output_type": "execute_result"
    }
   ],
   "source": [
    "joblib.dump(sentiment_classifier, '../models/sentiment_model.pkl')"
   ]
  },
  {
   "cell_type": "markdown",
   "id": "54a8b66b-f606-435a-b18a-dff9ba1c40b7",
   "metadata": {},
   "source": [
    "## Modelo para predecir la calificacion de los comentarios"
   ]
  },
  {
   "cell_type": "code",
   "execution_count": 195,
   "id": "2a4ea423-7862-402e-acb6-09579ae2de3c",
   "metadata": {},
   "outputs": [],
   "source": [
    "X_1 = reviews[\"comentario_limpiado\"]\n",
    "y_1 = reviews.calificacion.values"
   ]
  },
  {
   "cell_type": "code",
   "execution_count": 196,
   "id": "f38c9871-270d-44a6-b55a-f0f804b1cb89",
   "metadata": {},
   "outputs": [],
   "source": [
    "X_train_1, X_valid_1, y_train_1, y_valid_1 = train_test_split(\n",
    "    X_1,\n",
    "    y_1,\n",
    "    test_size=0.15,\n",
    "    random_state=42,\n",
    "    shuffle=True,\n",
    "    stratify=y,\n",
    ")"
   ]
  },
  {
   "cell_type": "code",
   "execution_count": 197,
   "id": "fc3618bf-5863-4b46-8c15-830a2063e708",
   "metadata": {},
   "outputs": [],
   "source": [
    "calification_classifier = Pipeline(steps=[\n",
    "                               ('pre_processing',TfidfVectorizer(lowercase=False)),\n",
    "                                 ('naive_bayes',MultinomialNB())\n",
    "                                 ])"
   ]
  },
  {
   "cell_type": "code",
   "execution_count": 198,
   "id": "f1f2269c-e365-485d-8774-c0ac1235c9d6",
   "metadata": {},
   "outputs": [
    {
     "data": {
      "text/plain": [
       "Pipeline(steps=[('pre_processing', TfidfVectorizer(lowercase=False)),\n",
       "                ('naive_bayes', MultinomialNB())])"
      ]
     },
     "execution_count": 198,
     "metadata": {},
     "output_type": "execute_result"
    }
   ],
   "source": [
    "calification_classifier.fit(X_train_1,y_train_1)"
   ]
  },
  {
   "cell_type": "code",
   "execution_count": 204,
   "id": "af0d776d-a965-4daa-922b-220a193d0c4b",
   "metadata": {},
   "outputs": [],
   "source": [
    "y_preds_1 = calification_classifier.predict(X_valid_1)"
   ]
  },
  {
   "cell_type": "markdown",
   "id": "83b90c2b-eaee-45a4-a54f-9af4b5454259",
   "metadata": {},
   "source": [
    "#### Resultados del modelo"
   ]
  },
  {
   "cell_type": "code",
   "execution_count": 205,
   "id": "bcaaf4ef-3b5b-48f1-a969-9e4c5abd765f",
   "metadata": {},
   "outputs": [
    {
     "data": {
      "text/plain": [
       "0.7557193305696299"
      ]
     },
     "execution_count": 205,
     "metadata": {},
     "output_type": "execute_result"
    }
   ],
   "source": [
    "accuracy_score(y_valid_1,y_preds_1)"
   ]
  },
  {
   "cell_type": "code",
   "execution_count": 206,
   "id": "87768839-d269-4e76-91a4-d84a502a0be1",
   "metadata": {},
   "outputs": [
    {
     "data": {
      "text/plain": [
       "0.6663224355499393"
      ]
     },
     "execution_count": 206,
     "metadata": {},
     "output_type": "execute_result"
    }
   ],
   "source": [
    "precision_score(y_valid_1,y_preds_1, average='weighted')"
   ]
  },
  {
   "cell_type": "code",
   "execution_count": 207,
   "id": "33aac6f9-3d52-4b3c-893e-6c3fbda19227",
   "metadata": {},
   "outputs": [
    {
     "data": {
      "text/plain": [
       "0.7557193305696299"
      ]
     },
     "execution_count": 207,
     "metadata": {},
     "output_type": "execute_result"
    }
   ],
   "source": [
    "recall_score(y_valid_1,y_preds_1, average='weighted')"
   ]
  },
  {
   "cell_type": "code",
   "execution_count": 210,
   "id": "638f4a60-f041-42f0-b72d-579b20bf0b83",
   "metadata": {},
   "outputs": [
    {
     "data": {
      "image/png": "[encoded data removed]",
      "text/plain": [
       "<Figure size 432x288 with 2 Axes>"
      ]
     },
     "metadata": {
      "needs_background": "light"
     },
     "output_type": "display_data"
    }
   ],
   "source": [
    "plot_confusion_matrix(calification_classifier, X_valid_1, y_valid_1)  \n",
    "plt.title('Matriz de confusion del modelo de clasificacion de calificacion')\n",
    "plt.show() "
   ]
  },
  {
   "cell_type": "markdown",
   "id": "634ff3c1-6628-4c85-8701-c58c77e28c37",
   "metadata": {},
   "source": [
    "#### Guadado del modelo"
   ]
  },
  {
   "cell_type": "code",
   "execution_count": 211,
   "id": "cf75af06-70f6-4658-b647-4cd19421de0f",
   "metadata": {},
   "outputs": [
    {
     "data": {
      "text/plain": [
       "['../models/calification_model.pkl']"
      ]
     },
     "execution_count": 211,
     "metadata": {},
     "output_type": "execute_result"
    }
   ],
   "source": [
    "joblib.dump(calification_classifier, '../models/calification_model.pkl')"
   ]
  },
  {
   "cell_type": "code",
   "execution_count": null,
   "id": "73aa016a-efae-442a-aee0-240d612763ff",
   "metadata": {},
   "outputs": [],
   "source": []
  }
 ],
 "metadata": {
  "kernelspec": {
   "display_name": "Python 3",
   "language": "python",
   "name": "python3"
  },
  "language_info": {
   "codemirror_mode": {
    "name": "ipython",
    "version": 3
   },
   "file_extension": ".py",
   "mimetype": "text/x-python",
   "name": "python",
   "nbconvert_exporter": "python",
   "pygments_lexer": "ipython3",
   "version": "3.7.10"
  }
 },
 "nbformat": 4,
 "nbformat_minor": 5
}
