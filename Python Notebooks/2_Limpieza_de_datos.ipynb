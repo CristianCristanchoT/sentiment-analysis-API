{
 "cells": [
  {
   "cell_type": "code",
   "execution_count": 1,
   "id": "cee10ef7-7cca-4c04-900a-def582b93683",
   "metadata": {},
   "outputs": [],
   "source": [
    "import pandas as pd\n",
    "import matplotlib.pyplot as plt"
   ]
  },
  {
   "cell_type": "code",
   "execution_count": 2,
   "id": "40f6cf12-39f3-496e-ad10-0e86058065b9",
   "metadata": {},
   "outputs": [
    {
     "data": {
      "text/html": [
       "<div>\n",
       "<style scoped>\n",
       "    .dataframe tbody tr th:only-of-type {\n",
       "        vertical-align: middle;\n",
       "    }\n",
       "\n",
       "    .dataframe tbody tr th {\n",
       "        vertical-align: top;\n",
       "    }\n",
       "\n",
       "    .dataframe thead th {\n",
       "        text-align: right;\n",
       "    }\n",
       "</style>\n",
       "<table border=\"1\" class=\"dataframe\">\n",
       "  <thead>\n",
       "    <tr style=\"text-align: right;\">\n",
       "      <th></th>\n",
       "      <th>reviewId</th>\n",
       "      <th>userName</th>\n",
       "      <th>userImage</th>\n",
       "      <th>content</th>\n",
       "      <th>score</th>\n",
       "      <th>thumbsUpCount</th>\n",
       "      <th>reviewCreatedVersion</th>\n",
       "      <th>at</th>\n",
       "      <th>replyContent</th>\n",
       "      <th>repliedAt</th>\n",
       "    </tr>\n",
       "  </thead>\n",
       "  <tbody>\n",
       "    <tr>\n",
       "      <th>0</th>\n",
       "      <td>gp:AOqpTOFjz5e9ioJtbi-HvBz7SH9XQ5_IoGk9U8Pr5s0...</td>\n",
       "      <td>Carlos Ortega</td>\n",
       "      <td>https://play-lh.googleusercontent.com/a/AATXAJ...</td>\n",
       "      <td>Muy buena aplicacion</td>\n",
       "      <td>5</td>\n",
       "      <td>0</td>\n",
       "      <td>11.4.0</td>\n",
       "      <td>2021-07-30 21:39:06</td>\n",
       "      <td>NaN</td>\n",
       "      <td>NaN</td>\n",
       "    </tr>\n",
       "    <tr>\n",
       "      <th>1</th>\n",
       "      <td>gp:AOqpTOGPMRc3QrLlDSZ5XVM_pgQImI8P9Ofkgnp0Zjm...</td>\n",
       "      <td>Thony Gutierrez</td>\n",
       "      <td>https://play-lh.googleusercontent.com/a/AATXAJ...</td>\n",
       "      <td>Que servicio tan malo, intento comunicarme con...</td>\n",
       "      <td>1</td>\n",
       "      <td>0</td>\n",
       "      <td>11.4.0</td>\n",
       "      <td>2021-07-30 21:17:47</td>\n",
       "      <td>NaN</td>\n",
       "      <td>NaN</td>\n",
       "    </tr>\n",
       "    <tr>\n",
       "      <th>2</th>\n",
       "      <td>gp:AOqpTOGjeH1K5sGpZlPj_2fkqRx6m6s0_jD4wLscjux...</td>\n",
       "      <td>Alfonso Gomez</td>\n",
       "      <td>https://play-lh.googleusercontent.com/a/AATXAJ...</td>\n",
       "      <td>Excelente Servicio muy bien muchas gracias</td>\n",
       "      <td>5</td>\n",
       "      <td>0</td>\n",
       "      <td>11.4.0</td>\n",
       "      <td>2021-07-30 20:52:06</td>\n",
       "      <td>NaN</td>\n",
       "      <td>NaN</td>\n",
       "    </tr>\n",
       "    <tr>\n",
       "      <th>3</th>\n",
       "      <td>gp:AOqpTOE4Wm3ydshHQrh0f7XDu9R7gzidN4Z6BVrTngB...</td>\n",
       "      <td>gustavo toloza</td>\n",
       "      <td>https://play-lh.googleusercontent.com/a-/AOh14...</td>\n",
       "      <td>Desde la actualización realizada el 28-07-2021...</td>\n",
       "      <td>1</td>\n",
       "      <td>0</td>\n",
       "      <td>11.4.0</td>\n",
       "      <td>2021-07-30 20:29:43</td>\n",
       "      <td>NaN</td>\n",
       "      <td>NaN</td>\n",
       "    </tr>\n",
       "    <tr>\n",
       "      <th>4</th>\n",
       "      <td>gp:AOqpTOFQt_hg8N5dGhSEw2-0FwOtEINg6nB5VpqFhwV...</td>\n",
       "      <td>diego luis arrubla castrillon</td>\n",
       "      <td>https://play-lh.googleusercontent.com/a-/AOh14...</td>\n",
       "      <td>Si lleva más de una semana mala la señal no se...</td>\n",
       "      <td>1</td>\n",
       "      <td>0</td>\n",
       "      <td>8.7.2</td>\n",
       "      <td>2021-07-30 20:28:51</td>\n",
       "      <td>NaN</td>\n",
       "      <td>NaN</td>\n",
       "    </tr>\n",
       "  </tbody>\n",
       "</table>\n",
       "</div>"
      ],
      "text/plain": [
       "                                            reviewId  \\\n",
       "0  gp:AOqpTOFjz5e9ioJtbi-HvBz7SH9XQ5_IoGk9U8Pr5s0...   \n",
       "1  gp:AOqpTOGPMRc3QrLlDSZ5XVM_pgQImI8P9Ofkgnp0Zjm...   \n",
       "2  gp:AOqpTOGjeH1K5sGpZlPj_2fkqRx6m6s0_jD4wLscjux...   \n",
       "3  gp:AOqpTOE4Wm3ydshHQrh0f7XDu9R7gzidN4Z6BVrTngB...   \n",
       "4  gp:AOqpTOFQt_hg8N5dGhSEw2-0FwOtEINg6nB5VpqFhwV...   \n",
       "\n",
       "                        userName  \\\n",
       "0                  Carlos Ortega   \n",
       "1                Thony Gutierrez   \n",
       "2                  Alfonso Gomez   \n",
       "3                 gustavo toloza   \n",
       "4  diego luis arrubla castrillon   \n",
       "\n",
       "                                           userImage  \\\n",
       "0  https://play-lh.googleusercontent.com/a/AATXAJ...   \n",
       "1  https://play-lh.googleusercontent.com/a/AATXAJ...   \n",
       "2  https://play-lh.googleusercontent.com/a/AATXAJ...   \n",
       "3  https://play-lh.googleusercontent.com/a-/AOh14...   \n",
       "4  https://play-lh.googleusercontent.com/a-/AOh14...   \n",
       "\n",
       "                                             content  score  thumbsUpCount  \\\n",
       "0                               Muy buena aplicacion      5              0   \n",
       "1  Que servicio tan malo, intento comunicarme con...      1              0   \n",
       "2         Excelente Servicio muy bien muchas gracias      5              0   \n",
       "3  Desde la actualización realizada el 28-07-2021...      1              0   \n",
       "4  Si lleva más de una semana mala la señal no se...      1              0   \n",
       "\n",
       "  reviewCreatedVersion                   at replyContent repliedAt  \n",
       "0               11.4.0  2021-07-30 21:39:06          NaN       NaN  \n",
       "1               11.4.0  2021-07-30 21:17:47          NaN       NaN  \n",
       "2               11.4.0  2021-07-30 20:52:06          NaN       NaN  \n",
       "3               11.4.0  2021-07-30 20:29:43          NaN       NaN  \n",
       "4                8.7.2  2021-07-30 20:28:51          NaN       NaN  "
      ]
     },
     "execution_count": 2,
     "metadata": {},
     "output_type": "execute_result"
    }
   ],
   "source": [
    "file_name = \"../DATA/reviews_app_claro.csv\"\n",
    "reviews = pd.read_csv(file_name)\n",
    "reviews.head()"
   ]
  },
  {
   "cell_type": "code",
   "execution_count": 4,
   "id": "97440a09-714c-41fe-bbfa-77f13e24b817",
   "metadata": {},
   "outputs": [
    {
     "data": {
      "text/plain": [
       "['reviewId',\n",
       " 'userName',\n",
       " 'userImage',\n",
       " 'content',\n",
       " 'score',\n",
       " 'thumbsUpCount',\n",
       " 'reviewCreatedVersion',\n",
       " 'at',\n",
       " 'replyContent',\n",
       " 'repliedAt']"
      ]
     },
     "execution_count": 4,
     "metadata": {},
     "output_type": "execute_result"
    }
   ],
   "source": [
    "list(reviews.columns)"
   ]
  },
  {
   "cell_type": "markdown",
   "id": "57b44a92-2963-468d-bec9-3f55afd67013",
   "metadata": {},
   "source": [
    "### Se extraen las columnas que son de interes"
   ]
  },
  {
   "cell_type": "code",
   "execution_count": 8,
   "id": "ba043beb-2762-4708-8338-b0aea989b43f",
   "metadata": {},
   "outputs": [
    {
     "data": {
      "text/html": [
       "<div>\n",
       "<style scoped>\n",
       "    .dataframe tbody tr th:only-of-type {\n",
       "        vertical-align: middle;\n",
       "    }\n",
       "\n",
       "    .dataframe tbody tr th {\n",
       "        vertical-align: top;\n",
       "    }\n",
       "\n",
       "    .dataframe thead th {\n",
       "        text-align: right;\n",
       "    }\n",
       "</style>\n",
       "<table border=\"1\" class=\"dataframe\">\n",
       "  <thead>\n",
       "    <tr style=\"text-align: right;\">\n",
       "      <th></th>\n",
       "      <th>comentario</th>\n",
       "      <th>calificacion</th>\n",
       "    </tr>\n",
       "  </thead>\n",
       "  <tbody>\n",
       "    <tr>\n",
       "      <th>0</th>\n",
       "      <td>Muy buena aplicacion</td>\n",
       "      <td>5</td>\n",
       "    </tr>\n",
       "    <tr>\n",
       "      <th>1</th>\n",
       "      <td>Que servicio tan malo, intento comunicarme con...</td>\n",
       "      <td>1</td>\n",
       "    </tr>\n",
       "    <tr>\n",
       "      <th>2</th>\n",
       "      <td>Excelente Servicio muy bien muchas gracias</td>\n",
       "      <td>5</td>\n",
       "    </tr>\n",
       "    <tr>\n",
       "      <th>3</th>\n",
       "      <td>Desde la actualización realizada el 28-07-2021...</td>\n",
       "      <td>1</td>\n",
       "    </tr>\n",
       "    <tr>\n",
       "      <th>4</th>\n",
       "      <td>Si lleva más de una semana mala la señal no se...</td>\n",
       "      <td>1</td>\n",
       "    </tr>\n",
       "  </tbody>\n",
       "</table>\n",
       "</div>"
      ],
      "text/plain": [
       "                                          comentario  calificacion\n",
       "0                               Muy buena aplicacion             5\n",
       "1  Que servicio tan malo, intento comunicarme con...             1\n",
       "2         Excelente Servicio muy bien muchas gracias             5\n",
       "3  Desde la actualización realizada el 28-07-2021...             1\n",
       "4  Si lleva más de una semana mala la señal no se...             1"
      ]
     },
     "execution_count": 8,
     "metadata": {},
     "output_type": "execute_result"
    }
   ],
   "source": [
    "data = reviews[['content','score']]\n",
    "data.columns = ['comentario', 'calificacion']\n",
    "data.head()"
   ]
  },
  {
   "cell_type": "markdown",
   "id": "4110e7d2-8d2e-435f-a7a3-760103ae14c7",
   "metadata": {},
   "source": [
    "### Se comprueba se hay datos faltantes"
   ]
  },
  {
   "cell_type": "code",
   "execution_count": 14,
   "id": "3fb0ed5a-818d-4fb3-8a71-3ff442bf6db7",
   "metadata": {},
   "outputs": [
    {
     "data": {
      "text/plain": [
       "True"
      ]
     },
     "execution_count": 14,
     "metadata": {},
     "output_type": "execute_result"
    }
   ],
   "source": [
    "data.isnull().values.any()"
   ]
  },
  {
   "cell_type": "code",
   "execution_count": 15,
   "id": "6ce1e6b5-96da-429c-b1cf-89a687c1ff3f",
   "metadata": {},
   "outputs": [
    {
     "data": {
      "text/html": [
       "<div>\n",
       "<style scoped>\n",
       "    .dataframe tbody tr th:only-of-type {\n",
       "        vertical-align: middle;\n",
       "    }\n",
       "\n",
       "    .dataframe tbody tr th {\n",
       "        vertical-align: top;\n",
       "    }\n",
       "\n",
       "    .dataframe thead th {\n",
       "        text-align: right;\n",
       "    }\n",
       "</style>\n",
       "<table border=\"1\" class=\"dataframe\">\n",
       "  <thead>\n",
       "    <tr style=\"text-align: right;\">\n",
       "      <th></th>\n",
       "      <th>comentario</th>\n",
       "      <th>calificacion</th>\n",
       "    </tr>\n",
       "  </thead>\n",
       "  <tbody>\n",
       "    <tr>\n",
       "      <th>3320</th>\n",
       "      <td>NaN</td>\n",
       "      <td>2</td>\n",
       "    </tr>\n",
       "    <tr>\n",
       "      <th>29633</th>\n",
       "      <td>NaN</td>\n",
       "      <td>5</td>\n",
       "    </tr>\n",
       "    <tr>\n",
       "      <th>33232</th>\n",
       "      <td>NaN</td>\n",
       "      <td>4</td>\n",
       "    </tr>\n",
       "    <tr>\n",
       "      <th>53298</th>\n",
       "      <td>NaN</td>\n",
       "      <td>5</td>\n",
       "    </tr>\n",
       "    <tr>\n",
       "      <th>77618</th>\n",
       "      <td>NaN</td>\n",
       "      <td>4</td>\n",
       "    </tr>\n",
       "  </tbody>\n",
       "</table>\n",
       "</div>"
      ],
      "text/plain": [
       "      comentario  calificacion\n",
       "3320         NaN             2\n",
       "29633        NaN             5\n",
       "33232        NaN             4\n",
       "53298        NaN             5\n",
       "77618        NaN             4"
      ]
     },
     "execution_count": 15,
     "metadata": {},
     "output_type": "execute_result"
    }
   ],
   "source": [
    "is_NaN = data.isnull()\n",
    "row_has_NaN = is_NaN.any(axis=1)\n",
    "rows_with_NaN = data[row_has_NaN]\n",
    "rows_with_NaN"
   ]
  },
  {
   "cell_type": "markdown",
   "id": "9589920d-0448-416e-b4fa-67aa8f83c899",
   "metadata": {},
   "source": [
    "#### Se eliminan las filas con datos faltantes"
   ]
  },
  {
   "cell_type": "code",
   "execution_count": 16,
   "id": "8ae4c634-e552-403a-889a-1317f64fa7b9",
   "metadata": {},
   "outputs": [],
   "source": [
    "data_clean = data[data['comentario'].notna()]"
   ]
  },
  {
   "cell_type": "code",
   "execution_count": 18,
   "id": "2599bfc5-ca65-47c9-b9c4-e95e026ebad8",
   "metadata": {},
   "outputs": [
    {
     "data": {
      "text/plain": [
       "False"
      ]
     },
     "execution_count": 18,
     "metadata": {},
     "output_type": "execute_result"
    }
   ],
   "source": [
    "data_clean.isnull().values.any()"
   ]
  },
  {
   "cell_type": "code",
   "execution_count": 21,
   "id": "07a8084e-6332-4899-b433-ad71cb31caad",
   "metadata": {},
   "outputs": [
    {
     "data": {
      "text/html": [
       "<div>\n",
       "<style scoped>\n",
       "    .dataframe tbody tr th:only-of-type {\n",
       "        vertical-align: middle;\n",
       "    }\n",
       "\n",
       "    .dataframe tbody tr th {\n",
       "        vertical-align: top;\n",
       "    }\n",
       "\n",
       "    .dataframe thead th {\n",
       "        text-align: right;\n",
       "    }\n",
       "</style>\n",
       "<table border=\"1\" class=\"dataframe\">\n",
       "  <thead>\n",
       "    <tr style=\"text-align: right;\">\n",
       "      <th></th>\n",
       "      <th>comentario</th>\n",
       "      <th>calificacion</th>\n",
       "    </tr>\n",
       "  </thead>\n",
       "  <tbody>\n",
       "    <tr>\n",
       "      <th>0</th>\n",
       "      <td>Muy buena aplicacion</td>\n",
       "      <td>5</td>\n",
       "    </tr>\n",
       "    <tr>\n",
       "      <th>1</th>\n",
       "      <td>Que servicio tan malo, intento comunicarme con...</td>\n",
       "      <td>1</td>\n",
       "    </tr>\n",
       "    <tr>\n",
       "      <th>2</th>\n",
       "      <td>Excelente Servicio muy bien muchas gracias</td>\n",
       "      <td>5</td>\n",
       "    </tr>\n",
       "    <tr>\n",
       "      <th>3</th>\n",
       "      <td>Desde la actualización realizada el 28-07-2021...</td>\n",
       "      <td>1</td>\n",
       "    </tr>\n",
       "    <tr>\n",
       "      <th>4</th>\n",
       "      <td>Si lleva más de una semana mala la señal no se...</td>\n",
       "      <td>1</td>\n",
       "    </tr>\n",
       "    <tr>\n",
       "      <th>...</th>\n",
       "      <td>...</td>\n",
       "      <td>...</td>\n",
       "    </tr>\n",
       "    <tr>\n",
       "      <th>86840</th>\n",
       "      <td>Está excelente, el diseño se ve muy atractivo....</td>\n",
       "      <td>5</td>\n",
       "    </tr>\n",
       "    <tr>\n",
       "      <th>86841</th>\n",
       "      <td>Mejoró la parte visual y los servicios</td>\n",
       "      <td>5</td>\n",
       "    </tr>\n",
       "    <tr>\n",
       "      <th>86842</th>\n",
       "      <td>Muy buena para manejar mis servicios moviles y...</td>\n",
       "      <td>5</td>\n",
       "    </tr>\n",
       "    <tr>\n",
       "      <th>86843</th>\n",
       "      <td>Todos mis servicios en un solo login. Excelent...</td>\n",
       "      <td>5</td>\n",
       "    </tr>\n",
       "    <tr>\n",
       "      <th>86844</th>\n",
       "      <td>Que buena actualización</td>\n",
       "      <td>5</td>\n",
       "    </tr>\n",
       "  </tbody>\n",
       "</table>\n",
       "<p>86840 rows × 2 columns</p>\n",
       "</div>"
      ],
      "text/plain": [
       "                                              comentario  calificacion\n",
       "0                                   Muy buena aplicacion             5\n",
       "1      Que servicio tan malo, intento comunicarme con...             1\n",
       "2             Excelente Servicio muy bien muchas gracias             5\n",
       "3      Desde la actualización realizada el 28-07-2021...             1\n",
       "4      Si lleva más de una semana mala la señal no se...             1\n",
       "...                                                  ...           ...\n",
       "86840  Está excelente, el diseño se ve muy atractivo....             5\n",
       "86841             Mejoró la parte visual y los servicios             5\n",
       "86842  Muy buena para manejar mis servicios moviles y...             5\n",
       "86843  Todos mis servicios en un solo login. Excelent...             5\n",
       "86844                            Que buena actualización             5\n",
       "\n",
       "[86840 rows x 2 columns]"
      ]
     },
     "execution_count": 21,
     "metadata": {},
     "output_type": "execute_result"
    }
   ],
   "source": [
    "data_clean"
   ]
  },
  {
   "cell_type": "code",
   "execution_count": 22,
   "id": "025ee635-35e4-4169-89e6-8944da18a90b",
   "metadata": {},
   "outputs": [],
   "source": [
    "file_name = \"../DATA/data.csv\"\n",
    "data_clean.to_csv(file_name, encoding='utf-8', index= False)"
   ]
  },
  {
   "cell_type": "code",
   "execution_count": null,
   "id": "500560fc-7884-4d1d-9260-9b60659d4934",
   "metadata": {},
   "outputs": [],
   "source": []
  }
 ],
 "metadata": {
  "kernelspec": {
   "display_name": "Python 3",
   "language": "python",
   "name": "python3"
  },
  "language_info": {
   "codemirror_mode": {
    "name": "ipython",
    "version": 3
   },
   "file_extension": ".py",
   "mimetype": "text/x-python",
   "name": "python",
   "nbconvert_exporter": "python",
   "pygments_lexer": "ipython3",
   "version": "3.7.10"
  }
 },
 "nbformat": 4,
 "nbformat_minor": 5
}
